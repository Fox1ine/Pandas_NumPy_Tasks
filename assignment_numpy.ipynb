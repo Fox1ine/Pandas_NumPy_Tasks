{
 "cells": [
  {
   "cell_type": "markdown",
   "id": "d3df79dd",
   "metadata": {},
   "source": [
    "## Упражнения по библиотеке Numpy"
   ]
  },
  {
   "metadata": {
    "ExecuteTime": {
     "end_time": "2024-09-30T14:55:35.136325Z",
     "start_time": "2024-09-30T14:55:35.049844Z"
    }
   },
   "cell_type": "code",
   "source": [
    "import itertools\n",
    "import random\n",
    "from statistics import median\n",
    "\n",
    "import numpy as np\n"
   ],
   "id": "76b9c43b",
   "outputs": [],
   "execution_count": 2
  },
  {
   "cell_type": "markdown",
   "id": "03727b7c",
   "metadata": {},
   "source": [
    "**1.** Дан случайный массив, поменять знак у элементов, значения которых между 3 и 8"
   ]
  },
  {
   "cell_type": "code",
   "id": "b89a7523",
   "metadata": {
    "ExecuteTime": {
     "end_time": "2024-09-30T14:55:37.114877Z",
     "start_time": "2024-09-30T14:55:37.093012Z"
    }
   },
   "source": [
    "array = np.random.randint(0, 10, size=30)\n",
    "array = np.where((array > 3) & (array < 8), -array, array)\n",
    "array"
   ],
   "outputs": [
    {
     "data": {
      "text/plain": [
       "array([ 8,  8, -7, -7, -4,  0,  9, -6,  1, -5,  3,  1,  2,  2,  3,  2,  8,\n",
       "       -7,  0, -5,  2, -4,  1, -4,  9,  2,  1, -5,  0,  8], dtype=int32)"
      ]
     },
     "execution_count": 3,
     "metadata": {},
     "output_type": "execute_result"
    }
   ],
   "execution_count": 3
  },
  {
   "cell_type": "markdown",
   "id": "5fa4abda",
   "metadata": {},
   "source": [
    "**2.** Заменить максимальный элемент случайного массива на 0"
   ]
  },
  {
   "cell_type": "code",
   "id": "f2788a6e",
   "metadata": {
    "ExecuteTime": {
     "end_time": "2024-09-30T14:27:07.548706Z",
     "start_time": "2024-09-30T14:27:07.541196Z"
    }
   },
   "source": [
    "array = np.random.randint(0, 100, size=10)\n",
    "array = np.where(np.max(array) == array, 0, array)\n",
    "array"
   ],
   "outputs": [
    {
     "data": {
      "text/plain": [
       "array([25, 72,  0, 73, 55, 54, 66, 71, 67, 75], dtype=int32)"
      ]
     },
     "execution_count": 6,
     "metadata": {},
     "output_type": "execute_result"
    }
   ],
   "execution_count": 6
  },
  {
   "cell_type": "markdown",
   "id": "3cac656b",
   "metadata": {},
   "source": [
    "**3.** Построить прямое произведение массивов (все комбинации с каждым элементом). На вход подается двумерный массив"
   ]
  },
  {
   "metadata": {
    "ExecuteTime": {
     "end_time": "2024-09-30T14:27:09.620703Z",
     "start_time": "2024-09-30T14:27:09.614067Z"
    }
   },
   "cell_type": "code",
   "source": [
    "array = np.array([(1, 2, 3), (4, 5, 6), (31, 333, 1)])\n",
    "one = np.copy(array)\n",
    "result = one * array\n",
    "result"
   ],
   "id": "d04bd3e4f844d335",
   "outputs": [
    {
     "data": {
      "text/plain": [
       "array([[     1,      4,      9],\n",
       "       [    16,     25,     36],\n",
       "       [   961, 110889,      1]])"
      ]
     },
     "execution_count": 7,
     "metadata": {},
     "output_type": "execute_result"
    }
   ],
   "execution_count": 7
  },
  {
   "cell_type": "code",
   "id": "3396b764",
   "metadata": {
    "ExecuteTime": {
     "end_time": "2024-09-30T14:27:11.857001Z",
     "start_time": "2024-09-30T14:27:11.848641Z"
    }
   },
   "source": [
    "array = np.array([(1, 2, 3), (4, 5, 6), (31, 333, 1)])\n",
    "it = list(itertools.product(*array))\n",
    "array = np.array(it)\n",
    "array"
   ],
   "outputs": [
    {
     "data": {
      "text/plain": [
       "array([[  1,   4,  31],\n",
       "       [  1,   4, 333],\n",
       "       [  1,   4,   1],\n",
       "       [  1,   5,  31],\n",
       "       [  1,   5, 333],\n",
       "       [  1,   5,   1],\n",
       "       [  1,   6,  31],\n",
       "       [  1,   6, 333],\n",
       "       [  1,   6,   1],\n",
       "       [  2,   4,  31],\n",
       "       [  2,   4, 333],\n",
       "       [  2,   4,   1],\n",
       "       [  2,   5,  31],\n",
       "       [  2,   5, 333],\n",
       "       [  2,   5,   1],\n",
       "       [  2,   6,  31],\n",
       "       [  2,   6, 333],\n",
       "       [  2,   6,   1],\n",
       "       [  3,   4,  31],\n",
       "       [  3,   4, 333],\n",
       "       [  3,   4,   1],\n",
       "       [  3,   5,  31],\n",
       "       [  3,   5, 333],\n",
       "       [  3,   5,   1],\n",
       "       [  3,   6,  31],\n",
       "       [  3,   6, 333],\n",
       "       [  3,   6,   1]])"
      ]
     },
     "execution_count": 8,
     "metadata": {},
     "output_type": "execute_result"
    }
   ],
   "execution_count": 8
  },
  {
   "cell_type": "markdown",
   "id": "674c9354",
   "metadata": {},
   "source": [
    "**4.** Даны 2 массива A (8x3) и B (2x2). Найти строки в A, которые содержат элементы из каждой строки в B, независимо от порядка элементов в B"
   ]
  },
  {
   "cell_type": "code",
   "id": "cb664782",
   "metadata": {
    "ExecuteTime": {
     "end_time": "2024-09-30T14:27:13.815801Z",
     "start_time": "2024-09-30T14:27:13.810720Z"
    }
   },
   "source": [
    "\n",
    "A = np.random.randint(0, 10, size=(8, 3))\n",
    "B = np.random.randint(0, 10, size=(2, 2))\n",
    "\n",
    "sep = (A[..., np.newaxis, np.newaxis] == B)\n",
    "row = (sep.sum(axis=(1, 2, 3)) >= B.shape[1]).nonzero()[0]\n",
    "row"
   ],
   "outputs": [
    {
     "data": {
      "text/plain": [
       "array([2, 3, 4, 5, 7])"
      ]
     },
     "execution_count": 9,
     "metadata": {},
     "output_type": "execute_result"
    }
   ],
   "execution_count": 9
  },
  {
   "cell_type": "markdown",
   "id": "fa46533b",
   "metadata": {},
   "source": [
    "**5.** Дана 10x3 матрица, найти строки из неравных значений (например строка [2,2,3] остается, строка [3,3,3] удаляется)"
   ]
  },
  {
   "cell_type": "code",
   "id": "fa545b23",
   "metadata": {
    "ExecuteTime": {
     "end_time": "2024-09-30T14:27:15.322070Z",
     "start_time": "2024-09-30T14:27:15.313221Z"
    }
   },
   "source": [
    "arr1 = np.array([\n",
    "    [1, 1, 1],\n",
    "    [2, 2, 2],\n",
    "    [7, 8, 9],\n",
    "    [0, 1, 2],\n",
    "    [3, 4, 5],\n",
    "    [6, 7, 8],\n",
    "    [9, 0, 1],\n",
    "    [2, 3, 4],\n",
    "    [5, 6, 7],\n",
    "    [8, 9, 0]\n",
    "])\n",
    "m = np.logical_and.reduce(arr1[:, 1:] == arr1[:, :-1], axis=1) & np.logical_and.reduce(arr1[:, 1:] == arr1[:, [0, 2]],\n",
    "                                                                                       axis=1) & np.logical_and.reduce(\n",
    "    arr1[:, :-1] == arr1[:, [0, 2]], axis=1)\n",
    "arr1[~m]\n"
   ],
   "outputs": [
    {
     "data": {
      "text/plain": [
       "array([[7, 8, 9],\n",
       "       [0, 1, 2],\n",
       "       [3, 4, 5],\n",
       "       [6, 7, 8],\n",
       "       [9, 0, 1],\n",
       "       [2, 3, 4],\n",
       "       [5, 6, 7],\n",
       "       [8, 9, 0]])"
      ]
     },
     "execution_count": 10,
     "metadata": {},
     "output_type": "execute_result"
    }
   ],
   "execution_count": 10
  },
  {
   "cell_type": "markdown",
   "id": "28f0d116",
   "metadata": {},
   "source": [
    "**6.** Дан двумерный массив. Удалить те строки, которые повторяются"
   ]
  },
  {
   "cell_type": "code",
   "id": "83d2c0b7",
   "metadata": {
    "ExecuteTime": {
     "end_time": "2024-09-30T14:27:18.195057Z",
     "start_time": "2024-09-30T14:27:18.189087Z"
    }
   },
   "source": [
    "arr1 = np.array([[1, 1, 1], [2, 2, 2], [1, 1, 1]])\n",
    "arr_uniq = np.unique(arr1)\n",
    "\n",
    "arr1, arr_uniq\n"
   ],
   "outputs": [
    {
     "data": {
      "text/plain": [
       "(array([[1, 1, 1],\n",
       "        [2, 2, 2],\n",
       "        [1, 1, 1]]),\n",
       " array([1, 2]))"
      ]
     },
     "execution_count": 11,
     "metadata": {},
     "output_type": "execute_result"
    }
   ],
   "execution_count": 11
  },
  {
   "cell_type": "markdown",
   "id": "6daa9e37",
   "metadata": {},
   "source": [
    "______\n",
    "______"
   ]
  },
  {
   "cell_type": "markdown",
   "id": "cfbfcaff",
   "metadata": {},
   "source": [
    "Для каждой из следующих задач (1-5) нужно привести 2 реализации – одна без использования numpy (cчитайте, что там, где на входе или выходе должны быть numpy array, будут просто списки), а вторая полностью векторизованная с использованием numpy (без использования питоновских циклов/map/list comprehension).\n",
    "\n",
    "\n",
    "__Замечание 1.__ Можно считать, что все указанные объекты непустые (к примеру, в __задаче 1__ на диагонали матрицы есть ненулевые элементы).\n",
    "\n",
    "__Замечание 2.__ Для большинства задач решение занимает не больше 1-2 строк."
   ]
  },
  {
   "cell_type": "markdown",
   "id": "673cac7f",
   "metadata": {},
   "source": [
    "___"
   ]
  },
  {
   "cell_type": "markdown",
   "id": "ca6f585e",
   "metadata": {},
   "source": [
    "* __Задача 1__: Подсчитать произведение ненулевых элементов на диагонали прямоугольной матрицы.  \n",
    " Например, для X = np.array([[1, 0, 1], [2, 0, 2], [3, 0, 3], [4, 4, 4]]) ответ 3."
   ]
  },
  {
   "cell_type": "code",
   "id": "065862fc",
   "metadata": {
    "ExecuteTime": {
     "end_time": "2024-09-30T14:27:21.445801Z",
     "start_time": "2024-09-30T14:27:21.438827Z"
    }
   },
   "source": [
    "\n",
    "X = np.array([[1, 0, 1], [2, 0, 2], [3, 0, 3], [4, 4, 4]])\n",
    "list_x = X.tolist()\n",
    "\n",
    "mult = 1\n",
    "for i in range(len(list_x[0])):\n",
    "    if X[i][i] != 0:\n",
    "        mult *= X[i][i]\n",
    "\n",
    "mult\n"
   ],
   "outputs": [
    {
     "data": {
      "text/plain": [
       "np.int64(3)"
      ]
     },
     "execution_count": 12,
     "metadata": {},
     "output_type": "execute_result"
    }
   ],
   "execution_count": 12
  },
  {
   "metadata": {
    "ExecuteTime": {
     "end_time": "2024-09-30T14:27:23.411171Z",
     "start_time": "2024-09-30T14:27:23.402171Z"
    }
   },
   "cell_type": "code",
   "source": [
    "\n",
    "X = np.array([[1, 0, 1], [2, 0, 2], [3, 0, 3], [4, 4, 4]])\n",
    "result = np.prod(np.diag(X)[np.diag(X) != 0])\n",
    "result"
   ],
   "id": "27822b642da0cf41",
   "outputs": [
    {
     "data": {
      "text/plain": [
       "np.int64(3)"
      ]
     },
     "execution_count": 13,
     "metadata": {},
     "output_type": "execute_result"
    }
   ],
   "execution_count": 13
  },
  {
   "cell_type": "markdown",
   "id": "9fc51d41",
   "metadata": {},
   "source": [
    "* __Задача 2__: Даны два вектора x и y. Проверить, задают ли они одно и то же мультимножество.  \n",
    "  Например, для x = np.array([1, 2, 2, 4]), y = np.array([4, 2, 1, 2]) ответ True."
   ]
  },
  {
   "cell_type": "code",
   "id": "a809e02f",
   "metadata": {
    "ExecuteTime": {
     "end_time": "2024-09-30T14:27:25.255621Z",
     "start_time": "2024-09-30T14:27:25.250044Z"
    }
   },
   "source": [
    "\n",
    "x = [1, 2, 2, 4]\n",
    "y = [4, 2, 1, 2]\n",
    "\n",
    "\n",
    "def count_el(arr):\n",
    "    count_d = {}\n",
    "    for elenent in arr:\n",
    "        if elenent in count_d:\n",
    "            count_d[elenent] += 1\n",
    "        else:\n",
    "            count_d[elenent] = 1\n",
    "    return count_d\n",
    "\n",
    "\n",
    "def equals(x, y):\n",
    "    count_x = count_el(x)\n",
    "    count_y = count_el(y)\n",
    "\n",
    "    return count_x == count_y\n",
    "\n",
    "\n",
    "result = equals(x, y)\n",
    "result\n",
    "\n",
    "\n",
    "\n"
   ],
   "outputs": [
    {
     "data": {
      "text/plain": [
       "True"
      ]
     },
     "execution_count": 14,
     "metadata": {},
     "output_type": "execute_result"
    }
   ],
   "execution_count": 14
  },
  {
   "metadata": {
    "ExecuteTime": {
     "end_time": "2024-09-30T15:01:57.549417Z",
     "start_time": "2024-09-30T15:01:57.536178Z"
    }
   },
   "cell_type": "code",
   "source": [
    "\n",
    "x = np.array([1, 2, 2, 4])\n",
    "y = np.array([4, 2, 1, 2])\n",
    "result = True\n",
    "unique_x, counts_x = np.unique(x, return_counts=True)\n",
    "unique_y, counts_y = np.unique(y, return_counts=True)\n",
    "\n",
    "if np.array_equal(counts_x, counts_y) and np.array_equal(unique_x, unique_y):\n",
    "    result = True\n",
    "else:\n",
    "    result = False\n",
    "result\n",
    "\n",
    "\n"
   ],
   "id": "e6a4f867a7788ccf",
   "outputs": [
    {
     "data": {
      "text/plain": [
       "True"
      ]
     },
     "execution_count": 6,
     "metadata": {},
     "output_type": "execute_result"
    }
   ],
   "execution_count": 6
  },
  {
   "cell_type": "markdown",
   "id": "b9c185c7",
   "metadata": {},
   "source": [
    "* __Задача 3__: Найти максимальный элемент в векторе x среди элементов, перед которыми стоит ноль. \n",
    " Например, для x = np.array([6, 2, 0, 3, 0, 0, 5, 7, 0]) ответ 5."
   ]
  },
  {
   "cell_type": "code",
   "id": "b57df008",
   "metadata": {
    "ExecuteTime": {
     "end_time": "2024-09-30T08:58:10.819525Z",
     "start_time": "2024-09-30T08:58:00.457486Z"
    }
   },
   "source": [
    "\n",
    "x = np.array([6, 2, 0, 3, 0, 0, 5, 7, 0])\n",
    "x = x.tolist()\n",
    "p = max(x[i] for i in range(len(x)) if i != 0 if x[i - 1] == 0)\n",
    "p"
   ],
   "outputs": [
    {
     "name": "stdout",
     "output_type": "stream",
     "text": [
      "1.25 µs ± 13.9 ns per loop (mean ± std. dev. of 7 runs, 1000000 loops each)\n"
     ]
    }
   ],
   "execution_count": 15
  },
  {
   "metadata": {
    "ExecuteTime": {
     "end_time": "2024-09-30T11:11:19.006184Z",
     "start_time": "2024-09-30T11:11:18.999793Z"
    }
   },
   "cell_type": "code",
   "source": [
    "\n",
    "x = np.array([6, 2, 0, 3, 0, 0, 5, 7, 0])\n",
    "res = np.max(x[1:][(x == 0)[:-1]])\n",
    "res"
   ],
   "id": "dd2a030510ee2c93",
   "outputs": [
    {
     "data": {
      "text/plain": [
       "np.int64(5)"
      ]
     },
     "execution_count": 77,
     "metadata": {},
     "output_type": "execute_result"
    }
   ],
   "execution_count": 77
  },
  {
   "cell_type": "markdown",
   "id": "480be4ce",
   "metadata": {},
   "source": [
    "* __Задача 4__: Реализовать кодирование длин серий (Run-length encoding). Для некоторого вектора x необходимо вернуть кортеж из двух векторов одинаковой длины. Первый содержит числа, а второй - сколько раз их нужно повторить.  \n",
    " Например, для x = np.array([2, 2, 2, 3, 3, 3, 5]) ответ (np.array([2, 3, 5]), np.array([3, 3, 1]))."
   ]
  },
  {
   "cell_type": "code",
   "id": "3c592124",
   "metadata": {
    "ExecuteTime": {
     "end_time": "2024-09-26T12:13:21.999390Z",
     "start_time": "2024-09-26T12:13:21.989006Z"
    }
   },
   "source": [
    "def run_length_encoding(x):\n",
    "    values = []\n",
    "    count = []\n",
    "    current_value = x[0]\n",
    "    current_count = 1\n",
    "\n",
    "    for i in range(1, len(x)):\n",
    "        if x[i] == current_value:\n",
    "            current_count += 1\n",
    "        else:\n",
    "            values.append(current_value)\n",
    "            count.append(current_count)\n",
    "            current_value = x[i]\n",
    "            current_count = 1\n",
    "\n",
    "    \n",
    "    values.append(current_value)\n",
    "    count.append(current_count)\n",
    "    \n",
    "    return (values, count)\n",
    "\n",
    "x = np.array([2, 2, 2, 3, 3, 3, 5])\n",
    "x = x.tolist()\n",
    "run_length_encoding(x)\n",
    "\n"
   ],
   "outputs": [
    {
     "data": {
      "text/plain": [
       "([2, 3, 5], [3, 3, 1])"
      ]
     },
     "execution_count": 70,
     "metadata": {},
     "output_type": "execute_result"
    }
   ],
   "execution_count": 70
  },
  {
   "metadata": {
    "ExecuteTime": {
     "end_time": "2024-09-27T17:36:39.793548Z",
     "start_time": "2024-09-27T17:36:39.785861Z"
    }
   },
   "cell_type": "code",
   "source": [
    "x = np.array([2, 2, 2, 3, 3, 3, 5])\n",
    "def run_length_encoding_numpy(arr1):\n",
    "    d = np.where(arr1[:1] != arr1[1:])[0]\n",
    "    print(d)\n",
    "\n",
    "run_length_encoding_numpy(x)"
   ],
   "id": "c0b9989b16bcc091",
   "outputs": [
    {
     "name": "stdout",
     "output_type": "stream",
     "text": [
      "[2 3 4 5]\n"
     ]
    }
   ],
   "execution_count": 14
  },
  {
   "cell_type": "markdown",
   "id": "077532ec",
   "metadata": {},
   "source": [
    "* __Задача 5__: Даны две выборки объектов - X и Y. Вычислить матрицу евклидовых расстояний между объектами. Сравните с функцией scipy.spatial.distance.cdist по скорости работы."
   ]
  },
  {
   "cell_type": "code",
   "id": "1e807797",
   "metadata": {
    "ExecuteTime": {
     "end_time": "2024-09-30T14:39:42.339834Z",
     "start_time": "2024-09-30T14:39:42.336540Z"
    }
   },
   "source": [
    "def diff(a, b):\n",
    "    result = []\n",
    "    for i in range(a.__len__()):\n",
    "        result.append(a[i] - b[i])\n",
    "    return result"
   ],
   "outputs": [],
   "execution_count": 1
  },
  {
   "metadata": {
    "ExecuteTime": {
     "end_time": "2024-09-30T14:59:42.389491Z",
     "start_time": "2024-09-30T14:59:31.841065Z"
    }
   },
   "cell_type": "code",
   "source": [
    "%%timeit\n",
    "from math import sqrt\n",
    "\n",
    "a = np.random.randint(10, size=(250, 4))\n",
    "b = np.random.randint(10, size=(240, 4))\n",
    "\n",
    "result_list = []\n",
    "for i in a:\n",
    "    row = []\n",
    "    for j in b:\n",
    "        row.append(np.sqrt(sum(pow(a - b, 2) for a, b in zip(i, j))))\n",
    "    result_list.append(row)\n",
    "\n",
    "result_list"
   ],
   "id": "a732ceb95ad99d02",
   "outputs": [
    {
     "name": "stdout",
     "output_type": "stream",
     "text": [
      "126 ms ± 1.22 ms per loop (mean ± std. dev. of 7 runs, 10 loops each)\n"
     ]
    }
   ],
   "execution_count": 4
  },
  {
   "metadata": {
    "ExecuteTime": {
     "end_time": "2024-09-30T14:40:12.842925Z",
     "start_time": "2024-09-30T14:40:12.838529Z"
    }
   },
   "cell_type": "code",
   "source": "np.sqrt(np.array(sum([pow(np.array(diff(x, y)), 2) for x, y in zip(a, b)])))",
   "id": "7735aa360b233e01",
   "outputs": [
    {
     "data": {
      "text/plain": [
       "array([61.99193496, 64.49806199, 63.1110133 , 62.92853089])"
      ]
     },
     "execution_count": 5,
     "metadata": {},
     "output_type": "execute_result"
    }
   ],
   "execution_count": 5
  },
  {
   "metadata": {
    "ExecuteTime": {
     "end_time": "2024-09-30T14:40:14.095171Z",
     "start_time": "2024-09-30T14:40:14.035529Z"
    }
   },
   "cell_type": "code",
   "source": [
    "%%time\n",
    "\n",
    "a = np.random.randint(10, size=(2250, 4))\n",
    "b = np.random.randint(10, size=(2240, 4))\n",
    "\n",
    "P = np.add.outer(np.sum(a ** 2, axis=1), np.sum(b ** 2, axis=1))\n",
    "N = np.dot(a, b.T)\n",
    "print(np.sqrt(P - 2*N))"
   ],
   "id": "6a821e23693fae2f",
   "outputs": [
    {
     "name": "stdout",
     "output_type": "stream",
     "text": [
      "[[ 8.83176087 11.61895004  4.58257569 ...  6.70820393  6.70820393\n",
      "   7.68114575]\n",
      " [ 9.69535971  9.74679434  7.54983444 ...  8.54400375  5.38516481\n",
      "   8.18535277]\n",
      " [ 6.8556546  11.40175425  6.164414   ...  7.61577311 10.\n",
      "   7.61577311]\n",
      " ...\n",
      " [ 9.32737905  9.2736185   6.         ...  8.71779789  3.74165739\n",
      "   8.1240384 ]\n",
      " [ 8.36660027  8.42614977  5.91607978 ...  8.88819442  4.79583152\n",
      "   7.93725393]\n",
      " [ 7.34846923 13.07669683  5.19615242 ...  2.64575131  9.32737905\n",
      "   4.35889894]]\n",
      "CPU times: total: 0 ns\n",
      "Wall time: 55.7 ms\n"
     ]
    }
   ],
   "execution_count": 6
  },
  {
   "metadata": {
    "ExecuteTime": {
     "end_time": "2024-09-30T14:40:18.106540Z",
     "start_time": "2024-09-30T14:40:16.243875Z"
    }
   },
   "cell_type": "code",
   "source": [
    "%%time\n",
    "import scipy\n",
    "\n",
    "a = np.random.randint(10, size=(22500, 4))\n",
    "b = np.random.randint(10, size=(22400, 4))\n",
    "\n",
    "scipy.spatial.distance.cdist(a, b)"
   ],
   "id": "6b154a6e2c38b8fb",
   "outputs": [
    {
     "name": "stdout",
     "output_type": "stream",
     "text": [
      "CPU times: total: 500 ms\n",
      "Wall time: 1.85 s\n"
     ]
    },
    {
     "data": {
      "text/plain": [
       "array([[10.14889157, 12.72792206,  7.07106781, ...,  9.48683298,\n",
       "        10.29563014, 11.74734012],\n",
       "       [ 3.        ,  6.164414  ,  5.09901951, ...,  6.        ,\n",
       "         4.69041576,  5.29150262],\n",
       "       [ 5.38516481,  8.48528137,  3.16227766, ...,  7.61577311,\n",
       "         8.36660027,  4.69041576],\n",
       "       ...,\n",
       "       [ 6.55743852, 12.24744871,  5.09901951, ...,  6.92820323,\n",
       "         5.47722558,  8.24621125],\n",
       "       [ 8.66025404,  7.07106781,  9.48683298, ...,  8.1240384 ,\n",
       "         9.89949494,  8.83176087],\n",
       "       [ 4.79583152,  5.47722558,  6.        , ...,  8.83176087,\n",
       "         7.21110255,  7.34846923]])"
      ]
     },
     "execution_count": 7,
     "metadata": {},
     "output_type": "execute_result"
    }
   ],
   "execution_count": 7
  },
  {
   "cell_type": "markdown",
   "id": "973e8064",
   "metadata": {},
   "source": [
    "_______\n",
    "________"
   ]
  },
  {
   "cell_type": "markdown",
   "id": "1104acb7",
   "metadata": {},
   "source": [
    "* #### __Задача 6__: CrunchieMunchies __*__\n",
    "\n",
    "Вы работаете в отделе маркетинга пищевой компании MyCrunch, которая разрабатывает новый вид вкусных, полезных злаков под названием **CrunchieMunchies**.\n",
    "\n",
    "Вы хотите продемонстрировать потребителям, насколько полезны ваши хлопья по сравнению с другими ведущими брендами, поэтому вы собрали данные о питании нескольких разных конкурентов.\n",
    "\n",
    "Ваша задача - использовать вычисления Numpy для анализа этих данных и доказать, что ваши **СrunchieMunchies** - самый здоровый выбор для потребителей.\n"
   ]
  },
  {
   "cell_type": "code",
   "id": "10a77f8d",
   "metadata": {
    "ExecuteTime": {
     "end_time": "2024-09-30T14:37:13.229991Z",
     "start_time": "2024-09-30T14:37:13.079125Z"
    }
   },
   "source": [
    "import numpy as np"
   ],
   "outputs": [],
   "execution_count": 1
  },
  {
   "cell_type": "markdown",
   "id": "ab87cb03",
   "metadata": {},
   "source": [
    "1. Просмотрите файл cereal.csv. Этот файл содержит количества калорий для различных марок хлопьев. Загрузите данные из файла и сохраните их как calorie_stats."
   ]
  },
  {
   "cell_type": "code",
   "id": "9681ebf2",
   "metadata": {
    "ExecuteTime": {
     "end_time": "2024-09-30T14:37:16.065827Z",
     "start_time": "2024-09-30T14:37:16.056334Z"
    }
   },
   "source": [
    "calorie_stats = np.loadtxt(\"./data/cereal.csv\", delimiter=\",\")\n",
    "calorie_stats"
   ],
   "outputs": [
    {
     "data": {
      "text/plain": [
       "array([ 70., 120.,  70.,  50., 110., 110., 110., 130.,  90.,  90., 120.,\n",
       "       110., 120., 110., 110., 110., 100., 110., 110., 110., 100., 110.,\n",
       "       100., 100., 110., 110., 100., 120., 120., 110., 100., 110., 100.,\n",
       "       110., 120., 120., 110., 110., 110., 140., 110., 100., 110., 100.,\n",
       "       150., 150., 160., 100., 120., 140.,  90., 130., 120., 100.,  50.,\n",
       "        50., 100., 100., 120., 100.,  90., 110., 110.,  80.,  90.,  90.,\n",
       "       110., 110.,  90., 110., 140., 100., 110., 110., 100., 100., 110.])"
      ]
     },
     "execution_count": 2,
     "metadata": {},
     "output_type": "execute_result"
    }
   ],
   "execution_count": 2
  },
  {
   "cell_type": "markdown",
   "id": "139cfbd8",
   "metadata": {},
   "source": [
    "2. В одной порции CrunchieMunchies содержится 60 калорий. Насколько выше среднее количество калорий у ваших конкурентов?\n",
    "\n",
    "Сохраните ответ в переменной average_calories и распечатайте переменную в терминале"
   ]
  },
  {
   "cell_type": "code",
   "id": "7036d240",
   "metadata": {
    "ExecuteTime": {
     "end_time": "2024-09-30T14:37:18.176986Z",
     "start_time": "2024-09-30T14:37:18.173442Z"
    }
   },
   "source": [
    "average_calories = np.mean(calorie_stats, axis=0)\n",
    "diff_calories = average_calories - 60\n",
    "print(f\"Среднее значение по конкурентам: {average_calories}, Разница среднего и нашей компании: {diff_calories}\")"
   ],
   "outputs": [
    {
     "name": "stdout",
     "output_type": "stream",
     "text": [
      "Среднее значение по конкурентам: 106.88311688311688, Разница среднего и нашей компании: 46.883116883116884\n"
     ]
    }
   ],
   "execution_count": 3
  },
  {
   "cell_type": "markdown",
   "id": "b2ddb4cd",
   "metadata": {},
   "source": [
    "3. Корректно ли среднее количество калорий отражает распределение набора данных? Давайте отсортируем данные и посмотрим.\n",
    "\n",
    "Отсортируйте данные и сохраните результат в переменной calorie_stats_sorted. Распечатайте отсортированную информацию"
   ]
  },
  {
   "cell_type": "code",
   "id": "46eeb4ed",
   "metadata": {
    "ExecuteTime": {
     "end_time": "2024-09-30T14:37:19.907486Z",
     "start_time": "2024-09-30T14:37:19.900761Z"
    }
   },
   "source": [
    "calorie_stats_sorted = np.sort(calorie_stats)\n",
    "print(f\"Отсортированные данные: {calorie_stats_sorted}\")"
   ],
   "outputs": [
    {
     "name": "stdout",
     "output_type": "stream",
     "text": [
      "Отсортированные данные: [ 50.  50.  50.  70.  70.  80.  90.  90.  90.  90.  90.  90.  90. 100.\n",
      " 100. 100. 100. 100. 100. 100. 100. 100. 100. 100. 100. 100. 100. 100.\n",
      " 100. 100. 110. 110. 110. 110. 110. 110. 110. 110. 110. 110. 110. 110.\n",
      " 110. 110. 110. 110. 110. 110. 110. 110. 110. 110. 110. 110. 110. 110.\n",
      " 110. 110. 110. 120. 120. 120. 120. 120. 120. 120. 120. 120. 120. 130.\n",
      " 130. 140. 140. 140. 150. 150. 160.]\n"
     ]
    }
   ],
   "execution_count": 4
  },
  {
   "cell_type": "markdown",
   "id": "4dc74116",
   "metadata": {},
   "source": [
    "4. Похоже, что большинство значений выше среднего. Давайте посмотрим, является ли медиана наиболее корректным показателем набора данных.\n",
    "\n",
    "Вычислите медиану набора данных и сохраните свой ответ в median_calories. Выведите медиану, чтобы вы могли видеть, как она сравнивается со средним значением."
   ]
  },
  {
   "cell_type": "code",
   "id": "b56627c3",
   "metadata": {
    "ExecuteTime": {
     "end_time": "2024-09-30T14:37:21.605316Z",
     "start_time": "2024-09-30T14:37:21.594388Z"
    }
   },
   "source": [
    "median_calories = np.median(calorie_stats)\n",
    "print(f\"Медиана: {median_calories}\")\n"
   ],
   "outputs": [
    {
     "name": "stdout",
     "output_type": "stream",
     "text": [
      "Медиана: 110.0\n"
     ]
    }
   ],
   "execution_count": 5
  },
  {
   "cell_type": "markdown",
   "id": "a63ab72f",
   "metadata": {},
   "source": [
    "5. В то время как медиана показывает, что по крайней мере половина наших значений составляет более 100 калорий, было бы более впечатляюще показать, что значительная часть конкурентов имеет более высокое количество калорий, чем CrunchieMunchies.\n",
    "\n",
    "Рассчитайте различные процентили и распечатайте их, пока не найдете наименьший процентиль, превышающий 60 калорий. Сохраните это значение в переменной nth_percentile."
   ]
  },
  {
   "cell_type": "code",
   "id": "fe80ce03",
   "metadata": {
    "ExecuteTime": {
     "end_time": "2024-09-30T14:37:23.523504Z",
     "start_time": "2024-09-30T14:37:23.518030Z"
    }
   },
   "source": [
    "for pr in range(1, 101):\n",
    "    value = np.percentile(calorie_stats, pr)\n",
    "    print(f\"Процентиль номер:{pr} и значением : {value}\")\n",
    "    if value > 60:\n",
    "        nth_percentile = pr\n",
    "        print(f\"Наименьший процентиль, превышающий 60 калорий, это {pr}-й процентиль с значением {value} калорий.\")\n",
    "        break\n",
    "    \n"
   ],
   "outputs": [
    {
     "name": "stdout",
     "output_type": "stream",
     "text": [
      "Процентиль номер:1 и значением : 50.0\n",
      "Процентиль номер:2 и значением : 50.0\n",
      "Процентиль номер:3 и значением : 55.599999999999994\n",
      "Процентиль номер:4 и значением : 70.0\n",
      "Наименьший процентиль, превышающий 60 калорий, это 4-й процентиль с значением 70.0 калорий.\n"
     ]
    }
   ],
   "execution_count": 6
  },
  {
   "cell_type": "markdown",
   "id": "a2a3c5aa",
   "metadata": {},
   "source": [
    "6. Хотя процентиль показывает нам, что у большинства конкурентов количество калорий намного выше, это неудобная концепция для использования в маркетинговых материалах.\n",
    "\n",
    "Вместо этого давайте подсчитаем процент хлопьев, в которых содержится более 60 калорий на порцию. Сохраните свой ответ в переменной more_calories и распечатайте его"
   ]
  },
  {
   "cell_type": "code",
   "id": "ade0f6ea",
   "metadata": {
    "ExecuteTime": {
     "end_time": "2024-09-30T14:37:25.648990Z",
     "start_time": "2024-09-30T14:37:25.645505Z"
    }
   },
   "source": [
    "more_calories = len(calorie_stats_sorted[calorie_stats_sorted > 60]) / len(calorie_stats_sorted)\n",
    "print(f\"Процент хлопьев в который содержится более 60ккал составляет- {more_calories*100:.2f}%\")"
   ],
   "outputs": [
    {
     "name": "stdout",
     "output_type": "stream",
     "text": [
      "Процент хлопьев в который содержится более 60ккал составляет- 96.10%\n"
     ]
    }
   ],
   "execution_count": 7
  },
  {
   "cell_type": "markdown",
   "id": "1735d65b",
   "metadata": {},
   "source": [
    "7. Это действительно высокий процент. Это будет очень полезно, когда мы будем продвигать CrunchieMunchies. Но один вопрос заключается в том, насколько велики различия в наборе данных? Можем ли мы сделать обобщение, что в большинстве злаков содержится около 100 калорий или разброс еще больше?\n",
    "\n",
    "Рассчитайте величину отклонения, найдя стандартное отклонение, Сохраните свой ответ в calorie_std и распечатайте на терминале. Как мы можем включить эту ценность в наш анализ?"
   ]
  },
  {
   "cell_type": "code",
   "id": "85c8df1f",
   "metadata": {
    "ExecuteTime": {
     "end_time": "2024-09-30T14:37:27.336527Z",
     "start_time": "2024-09-30T14:37:27.332515Z"
    }
   },
   "source": [
    "#это по формуле\n",
    "squared_diffs = [(value-average_calories)  ** 2 for value in calorie_stats_sorted]\n",
    "avg_sqr = sum(squared_diffs) / len(calorie_stats_sorted)\n",
    "calorie_std = avg_sqr ** 0.5\n",
    "print(calorie_std)\n",
    "\n",
    "    "
   ],
   "outputs": [
    {
     "name": "stdout",
     "output_type": "stream",
     "text": [
      "19.357185333908266\n"
     ]
    }
   ],
   "execution_count": 8
  },
  {
   "metadata": {
    "ExecuteTime": {
     "end_time": "2024-09-30T14:37:28.690257Z",
     "start_time": "2024-09-30T14:37:28.686202Z"
    }
   },
   "cell_type": "code",
   "source": [
    "calorie_std = np.std(calorie_stats)\n",
    "print(calorie_std)"
   ],
   "id": "9d241127ff71579c",
   "outputs": [
    {
     "name": "stdout",
     "output_type": "stream",
     "text": [
      "19.35718533390827\n"
     ]
    }
   ],
   "execution_count": 9
  },
  {
   "metadata": {},
   "cell_type": "markdown",
   "source": "Величина отклонения 19.36 это говорит о том что данные достаточно сильно различаются, что означает что некоторые хлопья(в нашем случае) могут быть сильно калорийными, а другие наоборот. Данные разбросаны, и медиана не дает точного представления о данных.",
   "id": "8a7555cbe1067cfa"
  },
  {
   "cell_type": "markdown",
   "id": "037455c5",
   "metadata": {},
   "source": [
    "8. Напишите короткий абзац, в котором кратко изложите свои выводы и то, как, по вашему мнению, эти данные могут быть использованы в интересах Mycrunch при маркетинге CrunchieMunchies."
   ]
  },
  {
   "metadata": {},
   "cell_type": "markdown",
   "source": "ВЫВОД -    На основе данных можно сделать вывод, что наши хлопья содержат меньше калорий, чем у 96% конкурентов. Это отличная возможность для отдела маркетинга привлечь внимание любителей хлопьев, а также тех, кто заботится о своем питании и стремится поддерживать фигуру",
   "id": "bc81dc2aeb5cb95a"
  }
 ],
 "metadata": {
  "kernelspec": {
   "display_name": "Python 3 (ipykernel)",
   "language": "python",
   "name": "python3"
  },
  "language_info": {
   "codemirror_mode": {
    "name": "ipython",
    "version": 3
   },
   "file_extension": ".py",
   "mimetype": "text/x-python",
   "name": "python",
   "nbconvert_exporter": "python",
   "pygments_lexer": "ipython3",
   "version": "3.12.6"
  }
 },
 "nbformat": 4,
 "nbformat_minor": 5
}
