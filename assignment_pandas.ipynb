{
 "cells": [
  {
   "cell_type": "markdown",
   "metadata": {},
   "source": [
    "## Датасет собран из базы данных переписи 1994 года и содержит данные о доходах.\n",
    "### Информация о данных:\n",
    "* age: continuous.\n",
    "* workclass: Private, Self-emp-not-inc, Self-emp-inc, Federal-gov, Local-gov, State-gov, Without-pay, Never-worked.\n",
    "* fnlwgt: continuous.\n",
    "* education: Bachelors, Some-college, 11th, HS-grad, Prof-school, Assoc-acdm, Assoc-voc, 9th, 7th-8th, 12th, * Masters, 1st-4th, 10th, Doctorate, 5th-6th, Preschool.\n",
    "* education-num: continuous.\n",
    "* marital-status: Married-civ-spouse, Divorced, Never-married, Separated, Widowed, Married-spouse-absent, Married-AF-spouse.\n",
    "* occupation: Tech-support, Craft-repair, Other-service, Sales, Exec-managerial, Prof-specialty, Handlers-cleaners, Machine-op-inspct, Adm-clerical, Farming-fishing, Transport-moving, Priv-house-serv, Protective-serv, Armed-Forces.\n",
    "* relationship: Wife, Own-child, Husband, Not-in-family, Other-relative, Unmarried.\n",
    "* race: White, Asian-Pac-Islander, Amer-Indian-Eskimo, Other, Black.\n",
    "* sex: Female, Male.\n",
    "* capital-gain: continuous.\n",
    "* capital-loss: continuous.\n",
    "* hours-per-week: continuous.\n",
    "* native-country: United-States, Cambodia, England, Puerto-Rico, Canada, Germany, Outlying-US(Guam-USVI-etc), India, Japan, Greece, South, China, Cuba, Iran, Honduras, Philippines, Italy, Poland, Jamaica, Vietnam, Mexico, Portugal, Ireland, France, Dominican-Republic, Laos, Ecuador, Taiwan, Haiti, Columbia, Hungary, Guatemala, Nicaragua, Scotland, Thailand, Yugoslavia, El-Salvador, Trinadad&Tobago, Peru, Hong, Holand-Netherlands.\n",
    "* salary: >50K,<=50K\n",
    "\n",
    "## Проведите анализ данных при помощи Pandas выполнив поставленные задачи.\n",
    "#### "
   ]
  },
  {
   "metadata": {},
   "cell_type": "markdown",
   "source": ""
  },
  {
   "cell_type": "code",
   "metadata": {
    "ExecuteTime": {
     "end_time": "2024-10-02T17:30:06.970727Z",
     "start_time": "2024-10-02T17:30:06.966683Z"
    }
   },
   "source": [
    "import pandas as pd\n",
    "import numpy as np\n",
    "from IPython.core.inputtransformer2 import leading_empty_lines\n",
    "from jedi.inference.gradual.conversion import convert_values\n",
    "from pandas import value_counts"
   ],
   "outputs": [],
   "execution_count": 105
  },
  {
   "cell_type": "code",
   "metadata": {
    "ExecuteTime": {
     "end_time": "2024-10-02T15:42:35.374673Z",
     "start_time": "2024-10-02T15:42:35.313840Z"
    }
   },
   "source": [
    "# загружаем датасет\n",
    "data = pd.read_csv(\"./data/adult.data.csv\")\n",
    "data.head()\n",
    "df = pd.DataFrame(data)\n",
    "df"
   ],
   "outputs": [
    {
     "data": {
      "text/plain": [
       "       age         workclass  fnlwgt   education  education-num  \\\n",
       "0       39         State-gov   77516   Bachelors             13   \n",
       "1       50  Self-emp-not-inc   83311   Bachelors             13   \n",
       "2       38           Private  215646     HS-grad              9   \n",
       "3       53           Private  234721        11th              7   \n",
       "4       28           Private  338409   Bachelors             13   \n",
       "...    ...               ...     ...         ...            ...   \n",
       "32556   27           Private  257302  Assoc-acdm             12   \n",
       "32557   40           Private  154374     HS-grad              9   \n",
       "32558   58           Private  151910     HS-grad              9   \n",
       "32559   22           Private  201490     HS-grad              9   \n",
       "32560   52      Self-emp-inc  287927     HS-grad              9   \n",
       "\n",
       "           marital-status         occupation   relationship   race     sex  \\\n",
       "0           Never-married       Adm-clerical  Not-in-family  White    Male   \n",
       "1      Married-civ-spouse    Exec-managerial        Husband  White    Male   \n",
       "2                Divorced  Handlers-cleaners  Not-in-family  White    Male   \n",
       "3      Married-civ-spouse  Handlers-cleaners        Husband  Black    Male   \n",
       "4      Married-civ-spouse     Prof-specialty           Wife  Black  Female   \n",
       "...                   ...                ...            ...    ...     ...   \n",
       "32556  Married-civ-spouse       Tech-support           Wife  White  Female   \n",
       "32557  Married-civ-spouse  Machine-op-inspct        Husband  White    Male   \n",
       "32558             Widowed       Adm-clerical      Unmarried  White  Female   \n",
       "32559       Never-married       Adm-clerical      Own-child  White    Male   \n",
       "32560  Married-civ-spouse    Exec-managerial           Wife  White  Female   \n",
       "\n",
       "       capital-gain  capital-loss  hours-per-week native-country salary  \n",
       "0              2174             0              40  United-States  <=50K  \n",
       "1                 0             0              13  United-States  <=50K  \n",
       "2                 0             0              40  United-States  <=50K  \n",
       "3                 0             0              40  United-States  <=50K  \n",
       "4                 0             0              40           Cuba  <=50K  \n",
       "...             ...           ...             ...            ...    ...  \n",
       "32556             0             0              38  United-States  <=50K  \n",
       "32557             0             0              40  United-States   >50K  \n",
       "32558             0             0              40  United-States  <=50K  \n",
       "32559             0             0              20  United-States  <=50K  \n",
       "32560         15024             0              40  United-States   >50K  \n",
       "\n",
       "[32561 rows x 15 columns]"
      ],
      "text/html": [
       "<div>\n",
       "<style scoped>\n",
       "    .dataframe tbody tr th:only-of-type {\n",
       "        vertical-align: middle;\n",
       "    }\n",
       "\n",
       "    .dataframe tbody tr th {\n",
       "        vertical-align: top;\n",
       "    }\n",
       "\n",
       "    .dataframe thead th {\n",
       "        text-align: right;\n",
       "    }\n",
       "</style>\n",
       "<table border=\"1\" class=\"dataframe\">\n",
       "  <thead>\n",
       "    <tr style=\"text-align: right;\">\n",
       "      <th></th>\n",
       "      <th>age</th>\n",
       "      <th>workclass</th>\n",
       "      <th>fnlwgt</th>\n",
       "      <th>education</th>\n",
       "      <th>education-num</th>\n",
       "      <th>marital-status</th>\n",
       "      <th>occupation</th>\n",
       "      <th>relationship</th>\n",
       "      <th>race</th>\n",
       "      <th>sex</th>\n",
       "      <th>capital-gain</th>\n",
       "      <th>capital-loss</th>\n",
       "      <th>hours-per-week</th>\n",
       "      <th>native-country</th>\n",
       "      <th>salary</th>\n",
       "    </tr>\n",
       "  </thead>\n",
       "  <tbody>\n",
       "    <tr>\n",
       "      <th>0</th>\n",
       "      <td>39</td>\n",
       "      <td>State-gov</td>\n",
       "      <td>77516</td>\n",
       "      <td>Bachelors</td>\n",
       "      <td>13</td>\n",
       "      <td>Never-married</td>\n",
       "      <td>Adm-clerical</td>\n",
       "      <td>Not-in-family</td>\n",
       "      <td>White</td>\n",
       "      <td>Male</td>\n",
       "      <td>2174</td>\n",
       "      <td>0</td>\n",
       "      <td>40</td>\n",
       "      <td>United-States</td>\n",
       "      <td>&lt;=50K</td>\n",
       "    </tr>\n",
       "    <tr>\n",
       "      <th>1</th>\n",
       "      <td>50</td>\n",
       "      <td>Self-emp-not-inc</td>\n",
       "      <td>83311</td>\n",
       "      <td>Bachelors</td>\n",
       "      <td>13</td>\n",
       "      <td>Married-civ-spouse</td>\n",
       "      <td>Exec-managerial</td>\n",
       "      <td>Husband</td>\n",
       "      <td>White</td>\n",
       "      <td>Male</td>\n",
       "      <td>0</td>\n",
       "      <td>0</td>\n",
       "      <td>13</td>\n",
       "      <td>United-States</td>\n",
       "      <td>&lt;=50K</td>\n",
       "    </tr>\n",
       "    <tr>\n",
       "      <th>2</th>\n",
       "      <td>38</td>\n",
       "      <td>Private</td>\n",
       "      <td>215646</td>\n",
       "      <td>HS-grad</td>\n",
       "      <td>9</td>\n",
       "      <td>Divorced</td>\n",
       "      <td>Handlers-cleaners</td>\n",
       "      <td>Not-in-family</td>\n",
       "      <td>White</td>\n",
       "      <td>Male</td>\n",
       "      <td>0</td>\n",
       "      <td>0</td>\n",
       "      <td>40</td>\n",
       "      <td>United-States</td>\n",
       "      <td>&lt;=50K</td>\n",
       "    </tr>\n",
       "    <tr>\n",
       "      <th>3</th>\n",
       "      <td>53</td>\n",
       "      <td>Private</td>\n",
       "      <td>234721</td>\n",
       "      <td>11th</td>\n",
       "      <td>7</td>\n",
       "      <td>Married-civ-spouse</td>\n",
       "      <td>Handlers-cleaners</td>\n",
       "      <td>Husband</td>\n",
       "      <td>Black</td>\n",
       "      <td>Male</td>\n",
       "      <td>0</td>\n",
       "      <td>0</td>\n",
       "      <td>40</td>\n",
       "      <td>United-States</td>\n",
       "      <td>&lt;=50K</td>\n",
       "    </tr>\n",
       "    <tr>\n",
       "      <th>4</th>\n",
       "      <td>28</td>\n",
       "      <td>Private</td>\n",
       "      <td>338409</td>\n",
       "      <td>Bachelors</td>\n",
       "      <td>13</td>\n",
       "      <td>Married-civ-spouse</td>\n",
       "      <td>Prof-specialty</td>\n",
       "      <td>Wife</td>\n",
       "      <td>Black</td>\n",
       "      <td>Female</td>\n",
       "      <td>0</td>\n",
       "      <td>0</td>\n",
       "      <td>40</td>\n",
       "      <td>Cuba</td>\n",
       "      <td>&lt;=50K</td>\n",
       "    </tr>\n",
       "    <tr>\n",
       "      <th>...</th>\n",
       "      <td>...</td>\n",
       "      <td>...</td>\n",
       "      <td>...</td>\n",
       "      <td>...</td>\n",
       "      <td>...</td>\n",
       "      <td>...</td>\n",
       "      <td>...</td>\n",
       "      <td>...</td>\n",
       "      <td>...</td>\n",
       "      <td>...</td>\n",
       "      <td>...</td>\n",
       "      <td>...</td>\n",
       "      <td>...</td>\n",
       "      <td>...</td>\n",
       "      <td>...</td>\n",
       "    </tr>\n",
       "    <tr>\n",
       "      <th>32556</th>\n",
       "      <td>27</td>\n",
       "      <td>Private</td>\n",
       "      <td>257302</td>\n",
       "      <td>Assoc-acdm</td>\n",
       "      <td>12</td>\n",
       "      <td>Married-civ-spouse</td>\n",
       "      <td>Tech-support</td>\n",
       "      <td>Wife</td>\n",
       "      <td>White</td>\n",
       "      <td>Female</td>\n",
       "      <td>0</td>\n",
       "      <td>0</td>\n",
       "      <td>38</td>\n",
       "      <td>United-States</td>\n",
       "      <td>&lt;=50K</td>\n",
       "    </tr>\n",
       "    <tr>\n",
       "      <th>32557</th>\n",
       "      <td>40</td>\n",
       "      <td>Private</td>\n",
       "      <td>154374</td>\n",
       "      <td>HS-grad</td>\n",
       "      <td>9</td>\n",
       "      <td>Married-civ-spouse</td>\n",
       "      <td>Machine-op-inspct</td>\n",
       "      <td>Husband</td>\n",
       "      <td>White</td>\n",
       "      <td>Male</td>\n",
       "      <td>0</td>\n",
       "      <td>0</td>\n",
       "      <td>40</td>\n",
       "      <td>United-States</td>\n",
       "      <td>&gt;50K</td>\n",
       "    </tr>\n",
       "    <tr>\n",
       "      <th>32558</th>\n",
       "      <td>58</td>\n",
       "      <td>Private</td>\n",
       "      <td>151910</td>\n",
       "      <td>HS-grad</td>\n",
       "      <td>9</td>\n",
       "      <td>Widowed</td>\n",
       "      <td>Adm-clerical</td>\n",
       "      <td>Unmarried</td>\n",
       "      <td>White</td>\n",
       "      <td>Female</td>\n",
       "      <td>0</td>\n",
       "      <td>0</td>\n",
       "      <td>40</td>\n",
       "      <td>United-States</td>\n",
       "      <td>&lt;=50K</td>\n",
       "    </tr>\n",
       "    <tr>\n",
       "      <th>32559</th>\n",
       "      <td>22</td>\n",
       "      <td>Private</td>\n",
       "      <td>201490</td>\n",
       "      <td>HS-grad</td>\n",
       "      <td>9</td>\n",
       "      <td>Never-married</td>\n",
       "      <td>Adm-clerical</td>\n",
       "      <td>Own-child</td>\n",
       "      <td>White</td>\n",
       "      <td>Male</td>\n",
       "      <td>0</td>\n",
       "      <td>0</td>\n",
       "      <td>20</td>\n",
       "      <td>United-States</td>\n",
       "      <td>&lt;=50K</td>\n",
       "    </tr>\n",
       "    <tr>\n",
       "      <th>32560</th>\n",
       "      <td>52</td>\n",
       "      <td>Self-emp-inc</td>\n",
       "      <td>287927</td>\n",
       "      <td>HS-grad</td>\n",
       "      <td>9</td>\n",
       "      <td>Married-civ-spouse</td>\n",
       "      <td>Exec-managerial</td>\n",
       "      <td>Wife</td>\n",
       "      <td>White</td>\n",
       "      <td>Female</td>\n",
       "      <td>15024</td>\n",
       "      <td>0</td>\n",
       "      <td>40</td>\n",
       "      <td>United-States</td>\n",
       "      <td>&gt;50K</td>\n",
       "    </tr>\n",
       "  </tbody>\n",
       "</table>\n",
       "<p>32561 rows × 15 columns</p>\n",
       "</div>"
      ]
     },
     "execution_count": 2,
     "metadata": {},
     "output_type": "execute_result"
    }
   ],
   "execution_count": 2
  },
  {
   "cell_type": "markdown",
   "metadata": {},
   "source": [
    "**1. Посчитайте, сколько мужчин и женщин (признак *sex*) представлено в этом датасете**"
   ]
  },
  {
   "metadata": {
    "ExecuteTime": {
     "end_time": "2024-10-02T13:21:56.303460Z",
     "start_time": "2024-10-02T13:21:56.297563Z"
    }
   },
   "cell_type": "code",
   "source": [
    "\n",
    "value  = df['sex'].value_counts()\n",
    "value"
   ],
   "outputs": [
    {
     "data": {
      "text/plain": [
       "sex\n",
       "Male      21790\n",
       "Female    10771\n",
       "Name: count, dtype: int64"
      ]
     },
     "execution_count": 8,
     "metadata": {},
     "output_type": "execute_result"
    }
   ],
   "execution_count": 8
  },
  {
   "cell_type": "markdown",
   "metadata": {},
   "source": [
    "**2. Каков средний возраст мужчин (признак *age*) по всему датасету?**"
   ]
  },
  {
   "cell_type": "code",
   "metadata": {
    "ExecuteTime": {
     "end_time": "2024-10-02T13:32:46.797545Z",
     "start_time": "2024-10-02T13:32:46.787638Z"
    }
   },
   "source": [
    "mean = df[df['sex'] == 'Male']['age'].mean()\n",
    "print(mean)"
   ],
   "outputs": [
    {
     "name": "stdout",
     "output_type": "stream",
     "text": [
      "39.43354749885268\n"
     ]
    }
   ],
   "execution_count": 28
  },
  {
   "cell_type": "markdown",
   "metadata": {},
   "source": [
    "**3. Какова доля граждан Соединенных Штатов (признак *native-country*)?**"
   ]
  },
  {
   "cell_type": "code",
   "metadata": {
    "ExecuteTime": {
     "end_time": "2024-10-02T13:56:30.295203Z",
     "start_time": "2024-10-02T13:56:30.283960Z"
    }
   },
   "source": [
    "f = (df[df['native-country'] == 'United-States']['native-country'].count() / df['native-country'].count()) * 100\n",
    "print(f)\n"
   ],
   "outputs": [
    {
     "name": "stdout",
     "output_type": "stream",
     "text": [
      "89.5857006848684\n"
     ]
    }
   ],
   "execution_count": 73
  },
  {
   "cell_type": "markdown",
   "metadata": {},
   "source": [
    "**4-5. Рассчитайте среднее значение и среднеквадратичное отклонение возраста тех, кто получает более 50K в год (признак *salary*) и тех, кто получает менее 50K в год**"
   ]
  },
  {
   "cell_type": "code",
   "metadata": {
    "ExecuteTime": {
     "end_time": "2024-10-02T14:11:53.646539Z",
     "start_time": "2024-10-02T14:11:53.628567Z"
    }
   },
   "source": [
    "salary_age_more_mean_50 = df[df['salary'] == '>50K']['age'].mean()\n",
    "salary_age_std_more_50 = df[df['salary'] == '>50K']['age'].std()\n",
    "print(salary_age_more_mean_50)\n",
    "print(salary_age_std_more_50)\n",
    "\n",
    "salary_age_less_mean_50 = df[df['salary'] == '<=50K']['age'].mean()\n",
    "salary_age_std_less_50 = df[df['salary'] == '<=50K']['age'].std()\n",
    "print(salary_age_less_mean_50)\n",
    "print(salary_age_std_less_50)"
   ],
   "outputs": [
    {
     "name": "stdout",
     "output_type": "stream",
     "text": [
      "44.24984058155847\n",
      "10.519027719851826\n",
      "36.78373786407767\n",
      "14.02008849082488\n"
     ]
    }
   ],
   "execution_count": 87
  },
  {
   "cell_type": "markdown",
   "metadata": {},
   "source": [
    "**6. Правда ли, что люди, которые получают больше 50k, имеют минимум высшее образование? (признак *education – Bachelors, Prof-school, Assoc-acdm, Assoc-voc, Masters* или *Doctorate*)**"
   ]
  },
  {
   "cell_type": "code",
   "metadata": {
    "ExecuteTime": {
     "end_time": "2024-10-02T14:41:59.794486Z",
     "start_time": "2024-10-02T14:41:59.787435Z"
    }
   },
   "source": [
    "higher_education = ['Bachelors', 'Masters', 'Doctorate', 'Assoc-acdm', 'Assoc-voc', 'Prof-school']\n",
    "result = df[df['salary'] == '>50K']['education'].isin(higher_education).all()\n",
    "if result:\n",
    "    print(\"ALL people earning more than 50k have at least a higher education.\")\n",
    "else:\n",
    "    print(\"NOT all people earning more than 50k have higher education.\")"
   ],
   "outputs": [
    {
     "name": "stdout",
     "output_type": "stream",
     "text": [
      "NOT all people earning more than 50k have higher education.\n"
     ]
    }
   ],
   "execution_count": 113
  },
  {
   "cell_type": "markdown",
   "metadata": {},
   "source": "**7. Выведите статистику возраста для каждой расы (признак *race*) и каждого пола. Используйте *groupby* и *describe*. Найдите таким образом максимальный возраст мужчин расы *Asian-Pac-Islander*.**"
  },
  {
   "metadata": {
    "scrolled": true,
    "ExecuteTime": {
     "end_time": "2024-10-02T17:11:52.583454Z",
     "start_time": "2024-10-02T17:11:52.551378Z"
    }
   },
   "cell_type": "code",
   "source": [
    "\n",
    "stats = df.groupby(['race','sex'])['age'].describe()\n",
    "max_age_asian_pac_islander = stats.loc['Asian-Pac-Islander']['max']['Male']\n",
    "max_age_asian_pac_islander"
   ],
   "outputs": [
    {
     "data": {
      "text/plain": [
       "np.float64(90.0)"
      ]
     },
     "execution_count": 82,
     "metadata": {},
     "output_type": "execute_result"
    }
   ],
   "execution_count": 82
  },
  {
   "cell_type": "markdown",
   "metadata": {},
   "source": [
    "**8. Среди кого больше доля зарабатывающих много (>50K): среди женатых или холостых мужчин (признак *marital-status*)? Женатыми считаем тех, у кого *marital-status* начинается с *Married* (Married-civ-spouse, Married-spouse-absent или Married-AF-spouse), остальных считаем холостыми.**"
   ]
  },
  {
   "cell_type": "code",
   "metadata": {
    "ExecuteTime": {
     "end_time": "2024-10-02T16:03:25.714392Z",
     "start_time": "2024-10-02T16:03:25.694753Z"
    }
   },
   "source": [
    "search_word = 'Married'\n",
    "married = df[(df['sex'] == 'Male')& (df['salary'] == '>50K') & (df['marital-status'].str.startswith(search_word))]['sex'].count()\n",
    "not_married = df[(df['sex'] == 'Male')& (df['salary'] == '>50K') & (~df['marital-status'].str.startswith(search_word))]['sex'].count() \n",
    "total_count = married + not_married\n",
    "if total_count > 0:\n",
    "    married_percent = (married / total_count) * 100\n",
    "    not_married_percent = (not_married / total_count) * 100\n",
    "\n",
    "    if married_percent > not_married_percent:\n",
    "        print(f\"Married ({married_percent}%) > Not Married ({not_married_percent}%)\")\n",
    "    elif married_percent < not_married_percent:\n",
    "        print(f\"Not Married ({not_married_percent}%) > Married ({married_percent}%)\")\n",
    "    else:\n",
    "        print(f\"Married ({married_percent}%) == Not Married ({not_married_percent}%)\")\n",
    "else:\n",
    "    print(\"No high income males found.\")\n",
    "\n"
   ],
   "outputs": [
    {
     "name": "stdout",
     "output_type": "stream",
     "text": [
      "Married (89.53767637346142%) > Not Married (10.462323626538577%)\n"
     ]
    }
   ],
   "execution_count": 15
  },
  {
   "metadata": {},
   "cell_type": "markdown",
   "source": "**9. Какое максимальное число часов человек работает в неделю (признак *hours-per-week*)? Сколько людей работают такое количество часов и каков среди них процент зарабатывающих много?**"
  },
  {
   "metadata": {
    "ExecuteTime": {
     "end_time": "2024-10-02T17:11:22.499425Z",
     "start_time": "2024-10-02T17:11:22.493285Z"
    }
   },
   "cell_type": "code",
   "source": [
    "max_hours_per_week = df['hours-per-week'].max()\n",
    "print(f\"max hours per week = {max_hours_per_week}\")\n",
    "\n",
    "c_people_max_hours = df[df['hours-per-week'] == max_hours_per_week].count().iloc[0]\n",
    "print(f\"count of people with big salary and hours per week = {c_people_max_hours} \")\n",
    "people_with_big_sl = df[(df['hours-per-week'] == max_hours_per_week) & (df['salary'] == '>50K')].count().iloc[0]\n",
    "percent = (people_with_big_sl / c_people_max_hours) * 100\n",
    "print(f\"percentage of people with the highest salary : {percent}%\")\n"
   ],
   "outputs": [
    {
     "name": "stdout",
     "output_type": "stream",
     "text": [
      "max hours per week = 99\n",
      "count of people with big salary and hours per week = 85 \n",
      "Percentage of people with the highest salary : 29.411764705882355%\n"
     ]
    }
   ],
   "execution_count": 81
  },
  {
   "cell_type": "markdown",
   "metadata": {},
   "source": [
    "**10. Посчитайте среднее время работы (*hours-per-week*) зарабатывающих мало и много (*salary*) для каждой страны (*native-country*).**"
   ]
  },
  {
   "metadata": {
    "scrolled": true,
    "ExecuteTime": {
     "end_time": "2024-10-02T17:25:29.737014Z",
     "start_time": "2024-10-02T17:25:29.728706Z"
    }
   },
   "cell_type": "code",
   "source": [
    "avg_hours_for_more = df[(df['salary']== '>50K') & (df['hours-per-week'] > 0)].groupby('native-country')['hours-per-week'].mean()\n",
    "avg_hours_for_more"
   ],
   "outputs": [
    {
     "data": {
      "text/plain": [
       "native-country\n",
       "?                     45.547945\n",
       "Cambodia              40.000000\n",
       "Canada                45.641026\n",
       "China                 38.900000\n",
       "Columbia              50.000000\n",
       "Cuba                  42.440000\n",
       "Dominican-Republic    47.000000\n",
       "Ecuador               48.750000\n",
       "El-Salvador           45.000000\n",
       "England               44.533333\n",
       "France                50.750000\n",
       "Germany               44.977273\n",
       "Greece                50.625000\n",
       "Guatemala             36.666667\n",
       "Haiti                 42.750000\n",
       "Honduras              60.000000\n",
       "Hong                  45.000000\n",
       "Hungary               50.000000\n",
       "India                 46.475000\n",
       "Iran                  47.500000\n",
       "Ireland               48.000000\n",
       "Italy                 45.400000\n",
       "Jamaica               41.100000\n",
       "Japan                 47.958333\n",
       "Laos                  40.000000\n",
       "Mexico                46.575758\n",
       "Nicaragua             37.500000\n",
       "Peru                  40.000000\n",
       "Philippines           43.032787\n",
       "Poland                39.000000\n",
       "Portugal              41.500000\n",
       "Puerto-Rico           39.416667\n",
       "Scotland              46.666667\n",
       "South                 51.437500\n",
       "Taiwan                46.800000\n",
       "Thailand              58.333333\n",
       "Trinadad&Tobago       40.000000\n",
       "United-States         45.505369\n",
       "Vietnam               39.200000\n",
       "Yugoslavia            49.500000\n",
       "Name: hours-per-week, dtype: float64"
      ]
     },
     "execution_count": 102,
     "metadata": {},
     "output_type": "execute_result"
    }
   ],
   "execution_count": 102
  },
  {
   "metadata": {
    "ExecuteTime": {
     "end_time": "2024-10-02T17:25:34.580620Z",
     "start_time": "2024-10-02T17:25:34.568677Z"
    }
   },
   "cell_type": "code",
   "source": [
    "avg_hours_for_less = df[(df['salary'] == '<=50K') & (df['hours-per-week'] > 0)].groupby('native-country')['hours-per-week'].mean()\n",
    "avg_hours_for_less"
   ],
   "outputs": [
    {
     "data": {
      "text/plain": [
       "native-country\n",
       "?                             40.164760\n",
       "Cambodia                      41.416667\n",
       "Canada                        37.914634\n",
       "China                         37.381818\n",
       "Columbia                      38.684211\n",
       "Cuba                          37.985714\n",
       "Dominican-Republic            42.338235\n",
       "Ecuador                       38.041667\n",
       "El-Salvador                   36.030928\n",
       "England                       40.483333\n",
       "France                        41.058824\n",
       "Germany                       39.139785\n",
       "Greece                        41.809524\n",
       "Guatemala                     39.360656\n",
       "Haiti                         36.325000\n",
       "Holand-Netherlands            40.000000\n",
       "Honduras                      34.333333\n",
       "Hong                          39.142857\n",
       "Hungary                       31.300000\n",
       "India                         38.233333\n",
       "Iran                          41.440000\n",
       "Ireland                       40.947368\n",
       "Italy                         39.625000\n",
       "Jamaica                       38.239437\n",
       "Japan                         41.000000\n",
       "Laos                          40.375000\n",
       "Mexico                        40.003279\n",
       "Nicaragua                     36.093750\n",
       "Outlying-US(Guam-USVI-etc)    41.857143\n",
       "Peru                          35.068966\n",
       "Philippines                   38.065693\n",
       "Poland                        38.166667\n",
       "Portugal                      41.939394\n",
       "Puerto-Rico                   38.470588\n",
       "Scotland                      39.444444\n",
       "South                         40.156250\n",
       "Taiwan                        33.774194\n",
       "Thailand                      42.866667\n",
       "Trinadad&Tobago               37.058824\n",
       "United-States                 38.799127\n",
       "Vietnam                       37.193548\n",
       "Yugoslavia                    41.600000\n",
       "Name: hours-per-week, dtype: float64"
      ]
     },
     "execution_count": 103,
     "metadata": {},
     "output_type": "execute_result"
    }
   ],
   "execution_count": 103
  },
  {
   "cell_type": "markdown",
   "metadata": {},
   "source": [
    "**11.Сгруппируйте людей по возрастным группам *young*, *adult*, *retiree*, где:**\n",
    "* *young* соответствует 16-35 лет\n",
    "* *adult* - 35-70 лет\n",
    "* *retiree* - 70-100 лет\n",
    "\n",
    "**Проставьте название соответсвтуещей группы для каждого человека в новой колонке AgeGroup**"
   ]
  },
  {
   "cell_type": "code",
   "metadata": {
    "scrolled": true,
    "ExecuteTime": {
     "end_time": "2024-10-02T17:33:30.832784Z",
     "start_time": "2024-10-02T17:33:30.824357Z"
    }
   },
   "source": [
    "df['AgeGroup'] = np.where((df['age'] >= 16) & (df['age'] < 35), 'young',\n",
    "                 np.where((df['age'] >= 35) & (df['age'] < 70), 'adult', \n",
    "                 np.where((df['age'] >= 70) & (df['age'] <= 100), 'retiree', 'unknown')))\n",
    "print(df['AgeGroup'])"
   ],
   "outputs": [
    {
     "name": "stdout",
     "output_type": "stream",
     "text": [
      "0        adult\n",
      "1        adult\n",
      "2        adult\n",
      "3        adult\n",
      "4        young\n",
      "         ...  \n",
      "32556    young\n",
      "32557    adult\n",
      "32558    adult\n",
      "32559    young\n",
      "32560    adult\n",
      "Name: AgeGroup, Length: 32561, dtype: object\n"
     ]
    }
   ],
   "execution_count": 114
  },
  {
   "cell_type": "markdown",
   "metadata": {},
   "source": [
    "**12-13. Определите количество зарабатывающих >50K в каждой из возрастных групп (колонка AgeGroup), а также выведите название возрастной группы, в которой чаще зарабатывают больше 50К (>50K)**"
   ]
  },
  {
   "cell_type": "code",
   "metadata": {
    "ExecuteTime": {
     "end_time": "2024-10-02T18:44:23.915392Z",
     "start_time": "2024-10-02T18:44:23.902498Z"
    }
   },
   "source": [
    "total_people_per_group = df.groupby('AgeGroup')['age'].count()\n",
    "count_of = df[df['salary'] == '>50K']['AgeGroup'].value_counts()\n",
    "count_of"
   ],
   "outputs": [
    {
     "data": {
      "text/plain": [
       "AgeGroup\n",
       "adult      6240\n",
       "young      1488\n",
       "retiree     113\n",
       "Name: count, dtype: int64"
      ]
     },
     "execution_count": 118,
     "metadata": {},
     "output_type": "execute_result"
    }
   ],
   "execution_count": 118
  },
  {
   "metadata": {
    "ExecuteTime": {
     "end_time": "2024-10-02T18:48:22.306707Z",
     "start_time": "2024-10-02T18:48:22.302445Z"
    }
   },
   "cell_type": "code",
   "source": [
    "group_w = (count_of / total_people_per_group) * 100\n",
    "res = group_w.index\n",
    "print(f\"The age group where most people earn >50K is: {res[0]}\")"
   ],
   "outputs": [
    {
     "name": "stdout",
     "output_type": "stream",
     "text": [
      "The age group where most people earn >50K is: adult\n"
     ]
    }
   ],
   "execution_count": 135
  },
  {
   "cell_type": "markdown",
   "metadata": {},
   "source": [
    "**14. Сгруппируйте людей по типу занятости (колонка occupation) и определите количество людей в каждой группе. После чего напишите функциюю фильтрации filter_func, которая будет возвращать только те группы, в которых средний возраст (колонка age) не больше 40 и в которых все работники отрабатывают более 5 часов в неделю (колонка hours-per-week)**"
   ]
  },
  {
   "cell_type": "code",
   "metadata": {
    "ExecuteTime": {
     "end_time": "2024-10-02T19:38:25.366230Z",
     "start_time": "2024-10-02T19:38:25.359595Z"
    }
   },
   "source": [
    "group_by_occupation = df.groupby('occupation')['occupation'].count()\n",
    "group_by_occupation"
   ],
   "outputs": [
    {
     "data": {
      "text/plain": [
       "occupation\n",
       "?                    1843\n",
       "Adm-clerical         3770\n",
       "Armed-Forces            9\n",
       "Craft-repair         4099\n",
       "Exec-managerial      4066\n",
       "Farming-fishing       994\n",
       "Handlers-cleaners    1370\n",
       "Machine-op-inspct    2002\n",
       "Other-service        3295\n",
       "Priv-house-serv       149\n",
       "Prof-specialty       4140\n",
       "Protective-serv       649\n",
       "Sales                3650\n",
       "Tech-support          928\n",
       "Transport-moving     1597\n",
       "Name: occupation, dtype: int64"
      ]
     },
     "execution_count": 204,
     "metadata": {},
     "output_type": "execute_result"
    }
   ],
   "execution_count": 204
  },
  {
   "metadata": {
    "ExecuteTime": {
     "end_time": "2024-10-02T19:38:00.934108Z",
     "start_time": "2024-10-02T19:38:00.922089Z"
    }
   },
   "cell_type": "code",
   "source": [
    "f_group = df.groupby('occupation').filter(lambda x: (x['age'].mean() <= 40).all() and (x['hours-per-week'] > 5).all())['occupation'].unique()\n",
    "print(f_group)"
   ],
   "outputs": [
    {
     "name": "stdout",
     "output_type": "stream",
     "text": [
      "['Armed-Forces']\n"
     ]
    }
   ],
   "execution_count": 203
  }
 ],
 "metadata": {
  "anaconda-cloud": {},
  "kernelspec": {
   "display_name": "Python 3 (ipykernel)",
   "language": "python",
   "name": "python3"
  },
  "language_info": {
   "codemirror_mode": {
    "name": "ipython",
    "version": 3
   },
   "file_extension": ".py",
   "mimetype": "text/x-python",
   "name": "python",
   "nbconvert_exporter": "python",
   "pygments_lexer": "ipython3",
   "version": "3.8.10"
  }
 },
 "nbformat": 4,
 "nbformat_minor": 1
}
